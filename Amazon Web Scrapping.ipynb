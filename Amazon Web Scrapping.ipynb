{
 "cells": [
  {
   "cell_type": "code",
   "execution_count": 2,
   "id": "f18db904-6bbf-4c99-8705-0f3de71d03b4",
   "metadata": {},
   "outputs": [],
   "source": [
    "#Import librairies\n",
    "\n",
    "from bs4 import BeautifulSoup\n",
    "import requests\n",
    "import time\n",
    "import datetime\n",
    "\n",
    "\n",
    "import smtplib"
   ]
  },
  {
   "cell_type": "code",
   "execution_count": 7,
   "id": "be7aec68-b48e-426c-87c0-c85b9495292a",
   "metadata": {},
   "outputs": [
    {
     "name": "stdout",
     "output_type": "stream",
     "text": [
      "\n",
      "                    T-shirt Data Analysts, Scientists, BI, STEM T-Shirt\n",
      "                   \n",
      "€16,99\n"
     ]
    }
   ],
   "source": [
    "# Connect to Website and pull in data\n",
    "\n",
    "URL = 'https://www.amazon.fr/T-shirt-Data-Analysts-Scientists-T-Shirt/dp/B0B6DTGYJM'\n",
    "headers = {\"User-Agent\": \"Mozilla/5.0 (Windows NT 10.0; Win64; x64) AppleWebKit/537.36 (KHTML, like Gecko) Chrome/78.0.3904.108 Safari/537.36\", \"Accept-Encoding\":\"gzip, deflate\", \"Accept\":\"text/html,application/xhtml+xml,application/xml;q=0.9,*/*;q=0.8\", \"DNT\":\"1\",\"Connection\":\"close\", \"Upgrade-Insecure-Requests\":\"1\"}\n",
    "\n",
    "page = requests.get(URL, headers=headers)\n",
    "\n",
    "soup1 = BeautifulSoup(page.content, \"html.parser\")\n",
    "soup2 = BeautifulSoup(soup1.prettify(), \"html.parser\")\n",
    "\n",
    "title = soup2.find(id='productTitle').get_text()\n",
    "price_symbol = soup2.find('span', class_='a-price-symbol').get_text(strip=True)\n",
    "price_whole = soup2.find('span', class_='a-price-whole').get_text(strip=True).replace('.', '')\n",
    "price_fraction = soup2.find('span', class_='a-price-fraction').get_text(strip=True)\n",
    "\n",
    "# Format the price correctly\n",
    "price = f\"{price_symbol}{price_whole}{price_fraction}\"\n",
    "\n",
    "# Print the results\n",
    "print(title)\n",
    "print(price)\n"
   ]
  },
  {
   "cell_type": "code",
   "execution_count": 4,
   "id": "1300ed30-b363-44f2-ba63-53f5c7d73860",
   "metadata": {},
   "outputs": [
    {
     "name": "stdout",
     "output_type": "stream",
     "text": [
      "T-shirt Data Analysts, Scientists, BI, STEM T-Shirt\n",
      "16,99\n"
     ]
    }
   ],
   "source": [
    "price = price.replace('€', '')\n",
    "title = title.strip()\n",
    "print(title)\n",
    "print(price)"
   ]
  },
  {
   "cell_type": "code",
   "execution_count": 15,
   "id": "965c7a12",
   "metadata": {},
   "outputs": [
    {
     "name": "stdout",
     "output_type": "stream",
     "text": [
      "2024-02-18\n"
     ]
    }
   ],
   "source": [
    "import datetime\n",
    "today = datetime.date.today()\n",
    "print(today)"
   ]
  },
  {
   "cell_type": "code",
   "execution_count": 16,
   "id": "0ad2385b",
   "metadata": {},
   "outputs": [],
   "source": [
    "import csv\n",
    "\n",
    "header = ['Title', 'Price','Date']\n",
    "data = [title.strip(), price.replace('€', '').strip(), today]\n",
    "\n",
    "with open('AmazonWebScraperDataset.csv', mode='w', newline='', encoding='UTF-8') as f:\n",
    "    writer = csv.writer(f, delimiter=',')\n",
    "    writer.writerow(header)\n",
    "    writer.writerow(data)\n"
   ]
  },
  {
   "cell_type": "code",
   "execution_count": 17,
   "id": "f48327e8",
   "metadata": {},
   "outputs": [],
   "source": [
    "#Now we are appending data to the csv\n",
    "with open('AmazonWebScraperDataset.csv', mode='a+', newline='', encoding='UTF-8') as f:\n",
    "    writer = csv.writer(f, delimiter=',')\n",
    "    writer.writerow(data)\n"
   ]
  },
  {
   "cell_type": "code",
   "execution_count": null,
   "id": "a7ab0106",
   "metadata": {},
   "outputs": [],
   "source": [
    "def send_mail():\n",
    "    server = smtplib.SMTP_SSL('smtp.gmail.com',465)\n",
    "    server.ehlo()\n",
    "    #server.starttls()\n",
    "    server.ehlo()\n",
    "    server.login('axxelsturm@gmail.com','xxxxxxxxxxxxxx')\n",
    "    \n",
    "    subject = \"The Shirt you want is below $14! Now is your chance to buy!\"\n",
    "    body = \"Axel, This is the moment we have been waiting for. Now is your chance to pick up the shirt of your dreams. Don't mess it up! Link here: https://www.amazon.fr/T-shirt-Data-Analysts-Scientists-T-Shirt/dp/B0B6DTGYJM\n",
    "    msg = f\"Subject: {subject}\\n\\n{body}\"\n",
    "    \n",
    "    server.sendmail(\n",
    "        'axxelsturm@gmail.com',\n",
    "        msg\n",
    "     \n",
    "    )"
   ]
  },
  {
   "cell_type": "code",
   "execution_count": 19,
   "id": "de49b2c3",
   "metadata": {},
   "outputs": [],
   "source": [
    "def check_price():\n",
    "    # Connect to Website and pull in data\n",
    "\n",
    "    URL = 'https://www.amazon.fr/T-shirt-Data-Analysts-Scientists-T-Shirt/dp/B0B6DTGYJM'\n",
    "    headers = {\"User-Agent\": \"Mozilla/5.0 (Windows NT 10.0; Win64; x64) AppleWebKit/537.36 (KHTML, like Gecko) Chrome/78.0.3904.108 Safari/537.36\", \"Accept-Encoding\":\"gzip, deflate\", \"Accept\":\"text/html,application/xhtml+xml,application/xml;q=0.9,*/*;q=0.8\", \"DNT\":\"1\",\"Connection\":\"close\", \"Upgrade-Insecure-Requests\":\"1\"}\n",
    "\n",
    "    page = requests.get(URL, headers=headers)\n",
    "\n",
    "    soup1 = BeautifulSoup(page.content, \"html.parser\")\n",
    "    soup2 = BeautifulSoup(soup1.prettify(), \"html.parser\")\n",
    "\n",
    "    title = soup2.find(id='productTitle').get_text()\n",
    "    price_symbol = soup2.find('span', class_='a-price-symbol').get_text(strip=True)\n",
    "    price_whole = soup2.find('span', class_='a-price-whole').get_text(strip=True).replace('.', '')\n",
    "    price_fraction = soup2.find('span', class_='a-price-fraction').get_text(strip=True)\n",
    "\n",
    "# Format the price correctly\n",
    "    price = f\"{price_symbol}{price_whole}{price_fraction}\"\n",
    "    price = price.replace('€', '')\n",
    "    title = title.strip()\n",
    "\n",
    "    import datetime\n",
    "    today = datetime.date.today()\n",
    "\n",
    "    import csv\n",
    "\n",
    "    header = ['Title', 'Price','Date']\n",
    "    data = [title.strip(), price.replace('€', '').strip(), today]\n",
    "    with open('AmazonWebScraperDataset.csv', mode='a+', newline='', encoding='UTF-8') as f:\n",
    "        writer = csv.writer(f, delimiter=',')\n",
    "        writer.writerow(data)\n",
    "    if(price<14):\n",
    "        send_mail()\n",
    "\n",
    "\n",
    "\n"
   ]
  },
  {
   "cell_type": "code",
   "execution_count": 20,
   "id": "90bd4756",
   "metadata": {},
   "outputs": [
    {
     "ename": "",
     "evalue": "",
     "output_type": "error",
     "traceback": [
      "\u001b[1;31mThe Kernel crashed while executing code in the current cell or a previous cell. \n",
      "\u001b[1;31mPlease review the code in the cell(s) to identify a possible cause of the failure. \n",
      "\u001b[1;31mClick <a href='https://aka.ms/vscodeJupyterKernelCrash'>here</a> for more info. \n",
      "\u001b[1;31mView Jupyter <a href='command:jupyter.viewOutput'>log</a> for further details."
     ]
    }
   ],
   "source": [
    "while (True):\n",
    "    check_price()\n",
    "    time.sleep(86400)"
   ]
  },
  {
   "cell_type": "code",
   "execution_count": 1,
   "id": "a99c56b1",
   "metadata": {},
   "outputs": [
    {
     "name": "stdout",
     "output_type": "stream",
     "text": [
      "                                               Title  Price        Date\n",
      "0  T-shirt Data Analysts, Scientists, BI, STEM T-...  16,99  2024-02-18\n",
      "1  T-shirt Data Analysts, Scientists, BI, STEM T-...  16,99  2024-02-18\n",
      "2  T-shirt Data Analysts, Scientists, BI, STEM T-...  16,99  2024-02-18\n"
     ]
    }
   ],
   "source": [
    "import pandas as pd\n",
    "\n",
    "df = pd.read_csv(r'C:\\Users\\Nax\\Python_project_local_host\\AmazonWeb\\AmazonWebScraperDataset.csv')\n",
    "print(df)"
   ]
  }
 ],
 "metadata": {
  "kernelspec": {
   "display_name": "Python 3 (ipykernel)",
   "language": "python",
   "name": "python3"
  },
  "language_info": {
   "codemirror_mode": {
    "name": "ipython",
    "version": 3
   },
   "file_extension": ".py",
   "mimetype": "text/x-python",
   "name": "python",
   "nbconvert_exporter": "python",
   "pygments_lexer": "ipython3",
   "version": "3.11.5"
  }
 },
 "nbformat": 4,
 "nbformat_minor": 5
}
